{
 "cells": [
  {
   "cell_type": "markdown",
   "metadata": {},
   "source": [
    "## get parcel data per apn\n",
    "provides useful info, especially for development.\n",
    "\n",
    "does not have any ownership info"
   ]
  },
  {
   "cell_type": "code",
   "execution_count": 9,
   "metadata": {},
   "outputs": [],
   "source": [
    "import pandas as pd\n",
    "import time,pathlib,re\n",
    "import scipy as sp\n",
    "import numpy as np\n",
    "from selenium import webdriver\n",
    "from selenium.webdriver.common.by import By\n",
    "from selenium.webdriver.chrome.service import Service\n",
    "from webdriver_manager.chrome import ChromeDriverManager\n",
    "from selenium.webdriver.support.select import Select\n",
    "from selenium.webdriver.support.ui import WebDriverWait\n",
    "from selenium.webdriver.support import expected_conditions as EC\n",
    "from bs4 import BeautifulSoup"
   ]
  },
  {
   "cell_type": "code",
   "execution_count": 10,
   "metadata": {},
   "outputs": [
    {
     "data": {
      "text/plain": [
       "111"
      ]
     },
     "execution_count": 10,
     "metadata": {},
     "output_type": "execute_result"
    }
   ],
   "source": [
    "# get a list of apns\n",
    "if(1):\n",
    "    sheetname = \"data\"\n",
    "    dfData = pd.read_excel(\"C:\\\\Users\\\\raysa\\\\docs\\\\real estate\\\\sd-tax-auction\\\\2024-sd-tax-auction\\\\tax-auction-data.xls\",sheet_name=sheetname)\n",
    "    dfData = df[(df[\"Auction Type\"]!=\"Timeshare Property\") & (df[\"Canceled\"].isnull())]\n",
    "    apns = df[\"APN\"]\n",
    "else:\n",
    "    apns= [\"123563454\"]\n",
    "\n",
    "dfData.set_index(\"APN\",inplace=True)\n",
    "\n",
    "N= np.size(apns)\n",
    "N"
   ]
  },
  {
   "cell_type": "markdown",
   "metadata": {},
   "source": [
    "https://sites.google.com/chromium.org/driver/downloads?authuser=0"
   ]
  },
  {
   "cell_type": "code",
   "execution_count": 11,
   "metadata": {},
   "outputs": [],
   "source": [
    "resultFolder = pathlib.Path(\"C:/work/scratch/temp_sangis\")\n",
    "#resultFolder.mkdir(parents=True, exist_ok=True)\n",
    "\n",
    "\n",
    "tmpFileName= \"{APN}.sangis.html\"\n"
   ]
  },
  {
   "cell_type": "code",
   "execution_count": 4,
   "metadata": {},
   "outputs": [
    {
     "ename": "NameError",
     "evalue": "name 'driver' is not defined",
     "output_type": "error",
     "traceback": [
      "\u001b[1;31m---------------------------------------------------------------------------\u001b[0m",
      "\u001b[1;31mNameError\u001b[0m                                 Traceback (most recent call last)",
      "Input \u001b[1;32mIn [4]\u001b[0m, in \u001b[0;36m<cell line: 1>\u001b[1;34m()\u001b[0m\n\u001b[1;32m----> 1\u001b[0m help(\u001b[43mdriver\u001b[49m\u001b[38;5;241m.\u001b[39mget)\n",
      "\u001b[1;31mNameError\u001b[0m: name 'driver' is not defined"
     ]
    }
   ],
   "source": [
    "help(driver.get)"
   ]
  },
  {
   "cell_type": "code",
   "execution_count": 18,
   "metadata": {},
   "outputs": [
    {
     "name": "stdout",
     "output_type": "stream",
     "text": [
      "0 (0.90) -->2533114000\n",
      "done\n"
     ]
    }
   ],
   "source": [
    "idx = 0\n",
    "for apn in apns:\n",
    "    print(\"%d (%2.2f) -->%d\"%(idx,100.0 *(idx+1)/N,apn));\n",
    "    idx+=1\n",
    "    # download the executable\n",
    "    driver = webdriver.Chrome(service=Service(ChromeDriverManager().install()))\n",
    "    #driver  = webdriver.Chrome(\"C:\\work\\chrome_driver_110\\\\chromedriver.exe\")\n",
    "    driver.implicitly_wait(30) # seconds\n",
    "    url =  'https://gissd.sandag.org/plt/ParcelRpt.aspx?APN={APN}'.format(APN=apn)\n",
    "    driver.get(url)\n",
    "    time.sleep(30)\n",
    "    data = driver.page_source\n",
    "    driver.close()\n",
    "\n",
    "    with resultFolder.joinpath(tmpFileName.format(APN=apn)).open('w') as f:\n",
    "        f.write(data);\n",
    "print(\"done\")   "
   ]
  },
  {
   "cell_type": "code",
   "execution_count": 14,
   "metadata": {},
   "outputs": [
    {
     "data": {
      "text/plain": [
       "2533114000"
      ]
     },
     "execution_count": 14,
     "metadata": {},
     "output_type": "execute_result"
    }
   ],
   "source": [
    "apns[41]"
   ]
  },
  {
   "cell_type": "markdown",
   "metadata": {},
   "source": [
    "# parse html pages saved\n",
    "\n",
    "now get all the data from html pages and create a composite csv file with one row per apn"
   ]
  },
  {
   "cell_type": "code",
   "execution_count": 16,
   "metadata": {},
   "outputs": [],
   "source": [
    "mapper = {\n",
    "#'Property Characteristics:',\n",
    "'Baths:'                      :3,\n",
    "'Assessor Land:'              :2,\n",
    "'Improvements:'               :7,\n",
    "#'Add. Areas:',\n",
    "#'Tot. Living Area:',\n",
    "'Assessor Total:'              :9 ,\n",
    "'Tax Status:'                 :14,  \n",
    "'Acreage:'                    :15,\n",
    "'Bedrooms:'                   :18,\n",
    "'Tax Rate Area:'              :17,      \n",
    " #'District Information:',\n",
    " #'City Council:',\n",
    " #'Board of Supervisors:',\n",
    " #'School District:',\n",
    " #'School Union:',\n",
    " #'Congress:',\n",
    " #'Fire Protection:',\n",
    " #'Senate:',\n",
    " #'Assembly:',\n",
    " #'Community College:',\n",
    " #'Planning Areas:',\n",
    " #'Census Tract:',\n",
    "'Subregional Area:'           :67,\n",
    " #'Major Statistical Area:',\n",
    " #'Community Planning Area:',\n",
    "'Land Use:'                   :slice(74,75),\n",
    "'Existing (LU):'              :slice(78,79),\n",
    " #'Ecology:',\n",
    " #'Vegetation Type (County):',\n",
    " #'Vegetation Type (Western Region 2012):',\n",
    "'Flood Zone/Flood Plain:'     :[89,91]\n",
    " #'Geology Type:',\n",
    " #'Soil Type:'\n",
    "}\n",
    "\n",
    "def processHtml(apn):\n",
    "    with resultFolder.joinpath(tmpFileName.format(APN=apn)).open('r') as f:\n",
    "        #try:    \n",
    "            #f=open(file,'r')\n",
    "        data = f.read()\n",
    "            #f.close()\n",
    "    #except:\n",
    "    #    print(\"cant find html for :%s\"%(file))\n",
    "    #    return -1\n",
    "    soup = BeautifulSoup(data)\n",
    "  # save a pretty version\n",
    "    if(0):\n",
    "        f = open(\"test.html\",'w')\n",
    "        f.write(soup.prettify());\n",
    "        f.close()\n",
    "                               \n",
    "    ELEM_SEPERATOR = '|'\n",
    "    ID_IDENTIFIER  = ':'\n",
    "    s = soup.get_text(ELEM_SEPERATOR)\n",
    "    startI   = int(s.find(\"Property Characteristics\"))\n",
    "    endI     = int(s.find(\"Data Disclaimer\"))\n",
    "    content  = s[startI:endI]\n",
    "    contentS =content.split(ELEM_SEPERATOR)\n",
    "    contentId=[c.strip() for c in contentS if ID_IDENTIFIER in c]\n",
    "    return contentS;                               "
   ]
  },
  {
   "cell_type": "code",
   "execution_count": 19,
   "metadata": {},
   "outputs": [],
   "source": [
    "\n",
    "\n",
    "\n",
    "df[\"LU code\"]         =''\n",
    "df[\"LU Description\"]  =''\n",
    "df[\"PLU Code\"]        =''\n",
    "df[\"PLU Description\"] =''\n",
    "df[\"Land type info\"]  =''\n",
    "for key, idx in mapper.items():\n",
    "    df[key] = ''\n",
    "\n",
    "\n",
    "for apn in apns:\n",
    "    content = processHtml(apn)\n",
    "    if(content==-1):continue\n",
    "    #str = \"%s,%s,\"%(apn,sheetname);\n",
    "    e = {}\n",
    "    for key, idx in mapper.items():\n",
    "        if(isinstance(idx,slice)):\n",
    "            entry =\" \".join(content[idx])\n",
    "        elif(isinstance(idx,list)):\n",
    "            entry =\" \".join([content[i] for i in idx])\n",
    "        else:\n",
    "            entry =content[idx]\n",
    "        df.loc[apn,key]=entry\n",
    "    \n",
    "    flat = \"\".join(content);\n",
    "    found = re.search(\"Land Use.*?LU\\)\\:([0-9]*)(.*?)\\(PLU\\)([0-9]*)(.*?)Ecology\",flat)\n",
    "    #str +=\",\".join(found.groups())+\",\"+found.group (0);\n",
    "    df.loc[apn,\"LU code\"]         = found.groups(0)[0]\n",
    "    df.loc[apn,\"LU Description\"]  = found.groups(0)[1]\n",
    "    df.loc[apn,\"PLU Code\"]        = found.groups(0)[2]\n",
    "    df.loc[apn,\"PLU Description\"] = found.groups(0)[3]\n",
    "    df.loc[apn,\"Land type info\"]  = found.group(0)\n",
    "    \n",
    "df.to_excel(\"data.xlsx\")"
   ]
  },
  {
   "cell_type": "code",
   "execution_count": 20,
   "metadata": {},
   "outputs": [],
   "source": [
    "df.to_excel(resultFolder/\"data.xlsx\")"
   ]
  }
 ],
 "metadata": {
  "kernelspec": {
   "display_name": "Python 3 (ipykernel)",
   "language": "python",
   "name": "python3"
  },
  "language_info": {
   "codemirror_mode": {
    "name": "ipython",
    "version": 3
   },
   "file_extension": ".py",
   "mimetype": "text/x-python",
   "name": "python",
   "nbconvert_exporter": "python",
   "pygments_lexer": "ipython3",
   "version": "3.9.12"
  },
  "vscode": {
   "interpreter": {
    "hash": "ad2bdc8ecc057115af97d19610ffacc2b4e99fae6737bb82f5d7fb13d2f2c186"
   }
  }
 },
 "nbformat": 4,
 "nbformat_minor": 2
}
