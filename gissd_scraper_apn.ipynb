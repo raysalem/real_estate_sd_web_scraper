{
 "cells": [
  {
   "cell_type": "markdown",
   "metadata": {},
   "source": [
    "## get parcel data per apn\n",
    "provides useful info, especially for development.\n",
    "\n",
    "does not have any ownership info"
   ]
  },
  {
   "cell_type": "code",
   "execution_count": 132,
   "metadata": {},
   "outputs": [],
   "source": [
    "import pandas as pd\n",
    "import time,pathlib,re\n",
    "import scipy as sp\n",
    "import numpy as np\n",
    "from selenium import webdriver\n",
    "from selenium.webdriver.common.by import By\n",
    "from selenium.webdriver.support.select import Select\n",
    "from selenium.webdriver.support.ui import WebDriverWait\n",
    "from selenium.webdriver.support import expected_conditions as EC\n",
    "from bs4 import BeautifulSoup"
   ]
  },
  {
   "cell_type": "code",
   "execution_count": 154,
   "metadata": {},
   "outputs": [],
   "source": [
    "# get a list of apns\n",
    "if(1):\n",
    "    sheetname = \"data\"\n",
    "    df = pd.read_excel(r\"\\\\NAS-SALEM\\Documents\\real estate\\sd-tax-auction\\2021-sd-tax-auction\\2-9-2021 Auction List.xls\",sheet_name=sheetname)\n",
    "    apns = df[\"APN\"]\n",
    "    filterKey   = \"TimeShare\"\n",
    "    filterValue = False\n",
    "else:\n",
    "    apns= [\"123563454\"]\n",
    "\n",
    "# grab a sub set    \n",
    "apns = apns[0:152]\n",
    "#apns=[2931214100]\n",
    "N= sp.size(apns)\n"
   ]
  },
  {
   "cell_type": "code",
   "execution_count": 152,
   "metadata": {},
   "outputs": [],
   "source": [
    "resultFolder = pathlib.Path(r\"\\\\NAS-SALEM\\work\\data\\sd-auction-2021\")\n",
    "resultFolder.mkdir(parents=True, exist_ok=True)\n",
    "\n",
    "\n",
    "tmpFileName= \"{APN}.sangis.html\"\n"
   ]
  },
  {
   "cell_type": "code",
   "execution_count": 153,
   "metadata": {},
   "outputs": [
    {
     "name": "stdout",
     "output_type": "stream",
     "text": [
      "0 (100.00) -->2931214100\n",
      "done\n"
     ]
    }
   ],
   "source": [
    "idx = 0\n",
    "for apn in apns:\n",
    "    print(\"%d (%2.2f) -->%d\"%(idx,100.0 *(idx+1)/N,apn));\n",
    "    idx+=1\n",
    "    # download the executable\n",
    "    driver  = webdriver.Opera(executable_path=r\"C:\\src\\operadriver_win64\\operadriver.exe\")\n",
    "    driver.implicitly_wait(30) # seconds\n",
    "    url =  'https://gissd.sandag.org/plt/ParcelRpt.aspx?APN={APN}'.format(APN=apn)\n",
    "    driver.get(url)\n",
    "    time.sleep(10)\n",
    "    data = driver.page_source\n",
    "    driver.close()\n",
    "\n",
    "    with resultFolder.joinpath(tmpFileName.format(APN=apn)).open('w') as f:\n",
    "        f.write(data);\n",
    "print(\"done\")   "
   ]
  },
  {
   "cell_type": "markdown",
   "metadata": {},
   "source": [
    "# parse html pages saved\n",
    "\n",
    "now get all the data from html pages and create a composite csv file with one row per apn"
   ]
  },
  {
   "cell_type": "code",
   "execution_count": 139,
   "metadata": {},
   "outputs": [],
   "source": [
    "mapper = {\n",
    "#'Property Characteristics:',\n",
    "'Baths:'                      :3,\n",
    "'Assessor Land:'              :2,\n",
    "'Improvements:'               :7,\n",
    "#'Add. Areas:',\n",
    "#'Tot. Living Area:',\n",
    "'Assessor Total:'              :9 ,\n",
    "'Tax Status:'                 :14,  \n",
    "'Acreage:'                    :15,\n",
    "'Bedrooms:'                   :18,\n",
    "'Tax Rate Area:'              :17,      \n",
    " #'District Information:',\n",
    " #'City Council:',\n",
    " #'Board of Supervisors:',\n",
    " #'School District:',\n",
    " #'School Union:',\n",
    " #'Congress:',\n",
    " #'Fire Protection:',\n",
    " #'Senate:',\n",
    " #'Assembly:',\n",
    " #'Community College:',\n",
    " #'Planning Areas:',\n",
    " #'Census Tract:',\n",
    "'Subregional Area:'           :67,\n",
    " #'Major Statistical Area:',\n",
    " #'Community Planning Area:',\n",
    "'Land Use:'                   :slice(74,75),\n",
    "'Existing (LU):'              :slice(78,79),\n",
    " #'Ecology:',\n",
    " #'Vegetation Type (County):',\n",
    " #'Vegetation Type (Western Region 2012):',\n",
    "'Flood Zone/Flood Plain:'     :[89,91]\n",
    " #'Geology Type:',\n",
    " #'Soil Type:'\n",
    "}\n",
    "\n",
    "def processHtml(apn):\n",
    "    with resultFolder.joinpath(tmpFileName.format(APN=apn)).open('r') as f:\n",
    "        #try:    \n",
    "            #f=open(file,'r')\n",
    "        data = f.read()\n",
    "            #f.close()\n",
    "    #except:\n",
    "    #    print(\"cant find html for :%s\"%(file))\n",
    "    #    return -1\n",
    "    soup = BeautifulSoup(data)\n",
    "  # save a pretty version\n",
    "    if(0):\n",
    "        f = open(\"test.html\",'w')\n",
    "        f.write(soup.prettify());\n",
    "        f.close()\n",
    "                               \n",
    "    ELEM_SEPERATOR = '|'\n",
    "    ID_IDENTIFIER  = ':'\n",
    "    s = soup.get_text(ELEM_SEPERATOR)\n",
    "    startI   = int(s.find(\"Property Characteristics\"))\n",
    "    endI     = int(s.find(\"Data Disclaimer\"))\n",
    "    content  = s[startI:endI]\n",
    "    contentS =content.split(ELEM_SEPERATOR)\n",
    "    contentId=[c.strip() for c in contentS if ID_IDENTIFIER in c]\n",
    "    return contentS;                               "
   ]
  },
  {
   "cell_type": "code",
   "execution_count": 155,
   "metadata": {},
   "outputs": [],
   "source": [
    "f = resultFolder.joinpath(\"data.csv\").open('w')\n",
    "str = \"APN,type,\";\n",
    "for key, value in mapper.items():\n",
    "  str +=key+','\n",
    "str+=\"LU code,LU Description,PLU Code,PLU Descriptio,Land type info\"\n",
    "f.write(str+\"\\n\");\n",
    "\n",
    "sheets =[\"data\"]\n",
    "filterKey   = \"TimeShare\"\n",
    "filterValue = False\n",
    "\n",
    "sheets =[\"data\"]\n",
    "for apn in apns:\n",
    "    content = processHtml(apn)\n",
    "    if(content==-1):continue\n",
    "    str = \"%s,%s,\"%(apn,sheetname);\n",
    "    for key, value in mapper.items():\n",
    "        if(isinstance(value,slice)):\n",
    "            entry =\" \".join(content[value])\n",
    "        elif(isinstance(value,list)):\n",
    "            entry =\" \".join([content[v] for v in value])\n",
    "        else:\n",
    "            entry =content[value]\n",
    "        str += entry.replace(',','')+','\n",
    "    flat = \"\".join(content);\n",
    "    found = re.search(\"Land Use.*?LU\\)\\:([0-9]*)(.*?)\\(PLU\\)([0-9]*)(.*?)Ecology\",flat)\n",
    "    str +=\",\".join(found.groups())+\",\"+found.group (0);\n",
    "    f.writelines(str+\"\\n\")\n",
    "    \n",
    "f.close()\n"
   ]
  }
 ],
 "metadata": {
  "kernelspec": {
   "display_name": "Python 3",
   "language": "python",
   "name": "python3"
  },
  "language_info": {
   "codemirror_mode": {
    "name": "ipython",
    "version": 3
   },
   "file_extension": ".py",
   "mimetype": "text/x-python",
   "name": "python",
   "nbconvert_exporter": "python",
   "pygments_lexer": "ipython3",
   "version": "3.7.1"
  }
 },
 "nbformat": 4,
 "nbformat_minor": 2
}
