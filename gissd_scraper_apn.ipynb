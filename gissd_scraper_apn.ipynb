{
 "cells": [
  {
   "cell_type": "markdown",
   "metadata": {},
   "source": [
    "## get parcel data per apn\n",
    "provides useful info, especially for development.\n",
    "\n",
    "does not have any ownership info"
   ]
  },
  {
   "cell_type": "code",
   "execution_count": 5,
   "metadata": {},
   "outputs": [],
   "source": [
    "import pandas as pd\n",
    "import time,pathlib,re\n",
    "import scipy as sp\n",
    "import numpy as np\n",
    "from selenium import webdriver\n",
    "from selenium.webdriver.common.by import By\n",
    "from selenium.webdriver.support.select import Select\n",
    "from selenium.webdriver.support.ui import WebDriverWait\n",
    "from selenium.webdriver.support import expected_conditions as EC\n",
    "from bs4 import BeautifulSoup"
   ]
  },
  {
   "cell_type": "code",
   "execution_count": 84,
   "metadata": {},
   "outputs": [
    {
     "data": {
      "text/plain": [
       "119"
      ]
     },
     "execution_count": 84,
     "metadata": {},
     "output_type": "execute_result"
    }
   ],
   "source": [
    "# get a list of apns\n",
    "if(1):\n",
    "    sheetname = \"data\"\n",
    "    df = pd.read_excel(\"C:\\\\Users\\\\raysa\\\\docs\\\\real estate\\\\sd-tax-auction\\\\2023-sd-tax-auction\\\\tax-auction-data.xlsx\",sheet_name=sheetname)\n",
    "    df = df[(df[\"Auction Type\"]!=\"Timeshare Property\") & (df[\"Canceled\"].isnull())]\n",
    "    apns = df[\"APN\"]\n",
    "else:\n",
    "    apns= [\"123563454\"]\n",
    "\n",
    "df.set_index(\"APN\",inplace=True)\n",
    "\n",
    "N= np.size(apns)\n",
    "N"
   ]
  },
  {
   "cell_type": "markdown",
   "metadata": {},
   "source": [
    "https://sites.google.com/chromium.org/driver/downloads?authuser=0"
   ]
  },
  {
   "cell_type": "code",
   "execution_count": 49,
   "metadata": {},
   "outputs": [],
   "source": [
    "resultFolder = pathlib.Path(\"C:/work/scratch/temp_sangis\")\n",
    "#resultFolder.mkdir(parents=True, exist_ok=True)\n",
    "\n",
    "\n",
    "tmpFileName= \"{APN}.sangis.html\"\n"
   ]
  },
  {
   "cell_type": "code",
   "execution_count": 58,
   "metadata": {},
   "outputs": [
    {
     "name": "stdout",
     "output_type": "stream",
     "text": [
      "Help on method get in module selenium.webdriver.remote.webdriver:\n",
      "\n",
      "get(url: str) -> None method of selenium.webdriver.chrome.webdriver.WebDriver instance\n",
      "    Loads a web page in the current browser session.\n",
      "\n"
     ]
    }
   ],
   "source": [
    "help(driver.get)"
   ]
  },
  {
   "cell_type": "code",
   "execution_count": 59,
   "metadata": {},
   "outputs": [
    {
     "name": "stdout",
     "output_type": "stream",
     "text": [
      "0 (0.84) -->1092702600\n"
     ]
    },
    {
     "name": "stderr",
     "output_type": "stream",
     "text": [
      "C:\\Users\\raysa\\AppData\\Local\\Temp\\ipykernel_6948\\2249667104.py:6: DeprecationWarning: executable_path has been deprecated, please pass in a Service object\n",
      "  driver  = webdriver.Chrome(\"C:\\work\\chrome_driver_110\\\\chromedriver.exe\")\n"
     ]
    },
    {
     "name": "stdout",
     "output_type": "stream",
     "text": [
      "1 (1.68) -->1223202100\n",
      "2 (2.52) -->1250904206\n",
      "3 (3.36) -->1481603200\n",
      "4 (4.20) -->1491912100\n",
      "5 (5.04) -->1511510200\n",
      "6 (5.88) -->1623440600\n",
      "7 (6.72) -->1681800300\n",
      "8 (7.56) -->1800806700\n",
      "9 (8.40) -->1873602300\n",
      "10 (9.24) -->2090412501\n",
      "11 (10.08) -->2162100345\n",
      "12 (10.92) -->2162903905\n",
      "13 (11.76) -->2176500400\n",
      "14 (12.61) -->2212500500\n",
      "15 (13.45) -->2251713700\n",
      "16 (14.29) -->2310707706\n",
      "17 (15.13) -->2886500531\n",
      "18 (15.97) -->3133423000\n",
      "19 (16.81) -->3162400103\n",
      "20 (17.65) -->3173630300\n",
      "21 (18.49) -->3465404616\n",
      "22 (19.33) -->3821401900\n",
      "23 (20.17) -->4212302143\n",
      "24 (21.01) -->4450412500\n",
      "25 (21.85) -->4476520200\n",
      "26 (22.69) -->4667311500\n",
      "27 (23.53) -->4803031100\n",
      "28 (24.37) -->4850310900\n",
      "29 (25.21) -->4971152200\n",
      "30 (26.05) -->4993748400\n",
      "31 (26.89) -->5011771300\n",
      "32 (27.73) -->5012330300\n",
      "33 (28.57) -->5051121800\n",
      "34 (29.41) -->5112802700\n",
      "35 (30.25) -->5130730700\n",
      "36 (31.09) -->5396012624\n",
      "37 (31.93) -->5432540500\n",
      "38 (32.77) -->5453021300\n",
      "39 (33.61) -->5454521500\n",
      "40 (34.45) -->5754700100\n",
      "41 (35.29) -->5801713500\n",
      "42 (36.13) -->6181902900\n",
      "43 (36.97) -->6242901900\n",
      "44 (37.82) -->6312750100\n",
      "45 (38.66) -->6371551700\n",
      "46 (39.50) -->6774001511\n",
      "47 (40.34) -->4032000101\n",
      "48 (41.18) -->4061041900\n",
      "49 (42.02) -->5931901200\n",
      "50 (42.86) -->1402711300\n",
      "51 (43.70) -->1411931800\n",
      "52 (44.54) -->1411931900\n",
      "53 (45.38) -->1412102100\n",
      "54 (46.22) -->1982020200\n",
      "55 (47.06) -->1982300100\n",
      "56 (47.90) -->1983640400\n",
      "57 (48.74) -->1983651300\n",
      "58 (49.58) -->2000610900\n",
      "59 (50.42) -->2000631900\n",
      "60 (51.26) -->2010900500\n",
      "61 (52.10) -->2532840900\n",
      "62 (52.94) -->2532920900\n",
      "63 (53.78) -->2533011700\n",
      "64 (54.62) -->2533211100\n",
      "65 (55.46) -->5290400200\n",
      "66 (56.30) -->6120105700\n",
      "67 (57.14) -->5092310400\n",
      "68 (57.98) -->2640313400\n",
      "69 (58.82) -->1873002100\n",
      "70 (59.66) -->1873003900\n",
      "71 (60.50) -->1873004000\n",
      "72 (61.34) -->1873004100\n",
      "73 (62.18) -->2640433700\n",
      "74 (63.03) -->1012905100\n",
      "75 (63.87) -->1042004100\n",
      "76 (64.71) -->1084111100\n",
      "77 (65.55) -->6590501100\n",
      "78 (66.39) -->5211201200\n",
      "79 (67.23) -->5211201300\n",
      "80 (68.07) -->5211501100\n",
      "81 (68.91) -->2912752200\n",
      "82 (69.75) -->2931121700\n",
      "83 (70.59) -->2931210400\n",
      "84 (71.43) -->2931440200\n",
      "85 (72.27) -->2952104500\n",
      "86 (73.11) -->2952104600\n",
      "87 (73.95) -->2952104700\n",
      "88 (74.79) -->2952540900\n",
      "89 (75.63) -->5771502200\n",
      "90 (76.47) -->5771502300\n",
      "91 (77.31) -->1574122800\n",
      "92 (78.15) -->1350632700\n",
      "93 (78.99) -->2791205800\n",
      "94 (79.83) -->5472211100\n",
      "95 (80.67) -->5831902700\n",
      "96 (81.51) -->6451030100\n",
      "97 (82.35) -->6451030200\n",
      "98 (83.19) -->6451031100\n",
      "99 (84.03) -->3781600300\n",
      "100 (84.87) -->3781600400\n",
      "101 (85.71) -->3781600500\n",
      "102 (86.55) -->3781600600\n",
      "103 (87.39) -->3781600700\n",
      "104 (88.24) -->3781601100\n",
      "105 (89.08) -->3781602600\n",
      "106 (89.92) -->3781700900\n",
      "107 (90.76) -->3782000400\n",
      "108 (91.60) -->3782000500\n",
      "109 (92.44) -->3782000900\n",
      "110 (93.28) -->3784604200\n",
      "111 (94.12) -->5060910200\n",
      "112 (94.96) -->5060920100\n",
      "113 (95.80) -->5793562700\n",
      "114 (96.64) -->5793761400\n",
      "115 (97.48) -->5962110900\n",
      "116 (98.32) -->1882310400\n",
      "117 (99.16) -->1882311000\n",
      "118 (100.00) -->1812423900\n",
      "done\n"
     ]
    }
   ],
   "source": [
    "idx = 0\n",
    "for apn in apns:\n",
    "    print(\"%d (%2.2f) -->%d\"%(idx,100.0 *(idx+1)/N,apn));\n",
    "    idx+=1\n",
    "    # download the executable\n",
    "    driver  = webdriver.Chrome(\"C:\\work\\chrome_driver_110\\\\chromedriver.exe\")\n",
    "    driver.implicitly_wait(30) # seconds\n",
    "    url =  'https://gissd.sandag.org/plt/ParcelRpt.aspx?APN={APN}'.format(APN=apn)\n",
    "    driver.get(url)\n",
    "    time.sleep(30)\n",
    "    data = driver.page_source\n",
    "    driver.close()\n",
    "\n",
    "    with resultFolder.joinpath(tmpFileName.format(APN=apn)).open('w') as f:\n",
    "        f.write(data);\n",
    "print(\"done\")   "
   ]
  },
  {
   "cell_type": "markdown",
   "metadata": {},
   "source": [
    "# parse html pages saved\n",
    "\n",
    "now get all the data from html pages and create a composite csv file with one row per apn"
   ]
  },
  {
   "cell_type": "code",
   "execution_count": 60,
   "metadata": {},
   "outputs": [],
   "source": [
    "mapper = {\n",
    "#'Property Characteristics:',\n",
    "'Baths:'                      :3,\n",
    "'Assessor Land:'              :2,\n",
    "'Improvements:'               :7,\n",
    "#'Add. Areas:',\n",
    "#'Tot. Living Area:',\n",
    "'Assessor Total:'              :9 ,\n",
    "'Tax Status:'                 :14,  \n",
    "'Acreage:'                    :15,\n",
    "'Bedrooms:'                   :18,\n",
    "'Tax Rate Area:'              :17,      \n",
    " #'District Information:',\n",
    " #'City Council:',\n",
    " #'Board of Supervisors:',\n",
    " #'School District:',\n",
    " #'School Union:',\n",
    " #'Congress:',\n",
    " #'Fire Protection:',\n",
    " #'Senate:',\n",
    " #'Assembly:',\n",
    " #'Community College:',\n",
    " #'Planning Areas:',\n",
    " #'Census Tract:',\n",
    "'Subregional Area:'           :67,\n",
    " #'Major Statistical Area:',\n",
    " #'Community Planning Area:',\n",
    "'Land Use:'                   :slice(74,75),\n",
    "'Existing (LU):'              :slice(78,79),\n",
    " #'Ecology:',\n",
    " #'Vegetation Type (County):',\n",
    " #'Vegetation Type (Western Region 2012):',\n",
    "'Flood Zone/Flood Plain:'     :[89,91]\n",
    " #'Geology Type:',\n",
    " #'Soil Type:'\n",
    "}\n",
    "\n",
    "def processHtml(apn):\n",
    "    with resultFolder.joinpath(tmpFileName.format(APN=apn)).open('r') as f:\n",
    "        #try:    \n",
    "            #f=open(file,'r')\n",
    "        data = f.read()\n",
    "            #f.close()\n",
    "    #except:\n",
    "    #    print(\"cant find html for :%s\"%(file))\n",
    "    #    return -1\n",
    "    soup = BeautifulSoup(data)\n",
    "  # save a pretty version\n",
    "    if(0):\n",
    "        f = open(\"test.html\",'w')\n",
    "        f.write(soup.prettify());\n",
    "        f.close()\n",
    "                               \n",
    "    ELEM_SEPERATOR = '|'\n",
    "    ID_IDENTIFIER  = ':'\n",
    "    s = soup.get_text(ELEM_SEPERATOR)\n",
    "    startI   = int(s.find(\"Property Characteristics\"))\n",
    "    endI     = int(s.find(\"Data Disclaimer\"))\n",
    "    content  = s[startI:endI]\n",
    "    contentS =content.split(ELEM_SEPERATOR)\n",
    "    contentId=[c.strip() for c in contentS if ID_IDENTIFIER in c]\n",
    "    return contentS;                               "
   ]
  },
  {
   "cell_type": "code",
   "execution_count": 91,
   "metadata": {},
   "outputs": [],
   "source": [
    "\n",
    "\n",
    "\n",
    "df[\"LU code\"]         =''\n",
    "df[\"LU Description\"]  =''\n",
    "df[\"PLU Code\"]        =''\n",
    "df[\"PLU Description\"] =''\n",
    "df[\"Land type info\"]  =''\n",
    "for key, idx in mapper.items():\n",
    "    df[key] = ''\n",
    "\n",
    "\n",
    "for apn in apns:\n",
    "    content = processHtml(apn)\n",
    "    if(content==-1):continue\n",
    "    #str = \"%s,%s,\"%(apn,sheetname);\n",
    "    e = {}\n",
    "    for key, idx in mapper.items():\n",
    "        if(isinstance(idx,slice)):\n",
    "            entry =\" \".join(content[idx])\n",
    "        elif(isinstance(idx,list)):\n",
    "            entry =\" \".join([content[i] for i in idx])\n",
    "        else:\n",
    "            entry =content[idx]\n",
    "        df.loc[apn,key]=entry\n",
    "    \n",
    "    flat = \"\".join(content);\n",
    "    found = re.search(\"Land Use.*?LU\\)\\:([0-9]*)(.*?)\\(PLU\\)([0-9]*)(.*?)Ecology\",flat)\n",
    "    #str +=\",\".join(found.groups())+\",\"+found.group (0);\n",
    "    df.loc[apn,\"LU code\"]         = found.groups(0)[0]\n",
    "    df.loc[apn,\"LU Description\"]  = found.groups(0)[1]\n",
    "    df.loc[apn,\"PLU Code\"]        = found.groups(0)[2]\n",
    "    df.loc[apn,\"PLU Description\"] = found.groups(0)[3]\n",
    "    df.loc[apn,\"Land type info\"]  = found.group(0)\n",
    "    \n",
    "df.to_excel(\"data.xlsx\")"
   ]
  },
  {
   "cell_type": "code",
   "execution_count": 94,
   "metadata": {},
   "outputs": [],
   "source": [
    "df.to_excel(resultFolder/\"data.xlsx\")"
   ]
  }
 ],
 "metadata": {
  "kernelspec": {
   "display_name": "Python 3 (ipykernel)",
   "language": "python",
   "name": "python3"
  },
  "language_info": {
   "codemirror_mode": {
    "name": "ipython",
    "version": 3
   },
   "file_extension": ".py",
   "mimetype": "text/x-python",
   "name": "python",
   "nbconvert_exporter": "python",
   "pygments_lexer": "ipython3",
   "version": "3.9.12"
  }
 },
 "nbformat": 4,
 "nbformat_minor": 2
}
