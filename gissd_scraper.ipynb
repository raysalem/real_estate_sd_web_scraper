{
  "metadata": {
    "language_info": {
      "mimetype": "text/x-python",
      "nbconvert_exporter": "python",
      "name": "python",
      "pygments_lexer": "ipython3",
      "version": "3.6.6",
      "file_extension": ".py",
      "codemirror_mode": {
        "version": 3,
        "name": "ipython"
      }
    },
    "kernelspec": {
      "name": "python36",
      "display_name": "Python 3.6",
      "language": "python"
    }
  },
  "nbformat_minor": 2,
  "nbformat": 4,
  "cells": [
    {
      "cell_type": "markdown",
      "source": "# useful data can be acquired from San Diego Open GIS Data Portal\nvia this web page\nhttps://sdgis-sandag.opendata.arcgis.com/\n\nthey have a variet of data set, based on what you, need to review the attibutes for your need and you can filter. they have a test page you can use too\n## Parcel labels\nhttps://sdgis-sandag.opendata.arcgis.com/datasets/parcel-labels\n### test page and provides https query\nhttps://sdgis-sandag.opendata.arcgis.com/datasets/parcel-labels/geoservice\n\n## Addresses\nhttps://sdgis-sandag.opendata.arcgis.com/datasets/address\n\n### test page\nhttps://sdgis-sandag.opendata.arcgis.com/datasets/address/geoservice",
      "metadata": {}
    },
    {
      "cell_type": "code",
      "source": "try:\n    import wget\nexcept ImportError:\n    !pip install wget\n\n\nfrom pathlib import Path\nimport pathlib\n    \nimport pkg_resources\npkg_resources.get_distribution(\"pathlib\").version\n#!pip install --upgrade pathlib\n    \n",
      "metadata": {
        "trusted": true
      },
      "execution_count": 25,
      "outputs": [
        {
          "execution_count": 25,
          "output_type": "execute_result",
          "data": {
            "text/plain": "'1.0.1'"
          },
          "metadata": {}
        }
      ]
    },
    {
      "cell_type": "code",
      "source": "# list of apns\nlistApns=[\n    \"4530121308\",\n\"4432501600\",\n\"5383402000\",\n\"6204502200\",\n\"5693021100\",\n\"5581701700\",\n\"5514901800\",\n\"4743710400\",\n\"2632924628\",\n\"2801301700\",\n\"6590202500\",\n\"6130804000\",\n\"5230514600\",\n\"3074300564\",\n\"3155821000\",\n\"1413301100\",\n\"2920421700\",\n\"5034001800\",\n\"5845821400\",\n\"5090200800\",\n\"2221721524\",\n\"4324911900\",\n\"4362520800\",\n\"4372503053\",\n\"1480510900\",\n\"3881510700\",\n\"1578802400\",\n\"1624620100\",\n\"4712710807\",\n\"4714611500\",\n\"4715720700\",\n\"1281211200\",\n\"3131300300\",\n\"5317020200\",\n\"2747700501\",\n\"3814240600\",\n\"3783716600\",\n\"6332731600\",\n\"6304405900\",\n\"5513801002\",\n\"6433614307\",\n\"5952024900\",\n\"6430522614\",\n]",
      "metadata": {
        "trusted": true
      },
      "execution_count": 6,
      "outputs": []
    },
    {
      "cell_type": "code",
      "source": "#conda install -c anaconda wget\ntempHtml = \"https://gissd.sandag.org/rdw/rest/services/Address/Address/MapServer/0/query?where=UPPER(APN)%20like%20%27%25{APN}%25%27&outFields=*&outSR=4326&f=json\"",
      "metadata": {
        "trusted": true
      },
      "execution_count": 10,
      "outputs": []
    },
    {
      "cell_type": "code",
      "source": "apn = listApns[0]\nofile = \"%s.json\"%apn\nurl = tempHtml.format(APN=apn)\nprint(url)\nPath(ofile).unlink()\nwget.download(url=url,out=ofile)",
      "metadata": {
        "trusted": true
      },
      "execution_count": 26,
      "outputs": [
        {
          "text": "https://gissd.sandag.org/rdw/rest/services/Address/Address/MapServer/0/query?where=UPPER(APN)%20like%20%27%254530121308%25%27&outFields=*&outSR=4326&f=json\n",
          "name": "stdout",
          "output_type": "stream"
        },
        {
          "execution_count": 26,
          "output_type": "execute_result",
          "data": {
            "text/plain": "'4530121308.json'"
          },
          "metadata": {}
        }
      ]
    }
  ]
}