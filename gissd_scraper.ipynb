{
  "metadata": {
    "language_info": {
      "mimetype": "text/x-python",
      "nbconvert_exporter": "python",
      "name": "python",
      "pygments_lexer": "ipython3",
      "version": "3.6.6",
      "file_extension": ".py",
      "codemirror_mode": {
        "version": 3,
        "name": "ipython"
      }
    },
    "kernelspec": {
      "name": "python36",
      "display_name": "Python 3.6",
      "language": "python"
    }
  },
  "nbformat_minor": 2,
  "nbformat": 4,
  "cells": [
    {
      "cell_type": "markdown",
      "source": "# useful data can be acquired from San Diego Open GIS Data Portal\nvia this web page\nhttps://sdgis-sandag.opendata.arcgis.com/\n\nthey have a variet of data set, based on what you, need to review the attibutes for your need and you can filter. they have a test page you can use too\n## Parcel labels\nhttps://sdgis-sandag.opendata.arcgis.com/datasets/parcel-labels\n### test page and provides https query\nhttps://sdgis-sandag.opendata.arcgis.com/datasets/parcel-labels/geoservice\n\n## Addresses\nhttps://sdgis-sandag.opendata.arcgis.com/datasets/address\n\n### test page\nhttps://sdgis-sandag.opendata.arcgis.com/datasets/address/geoservice\n\n\n## zoning\nhttps://sdgis-sandag.opendata.arcgis.com/datasets/zoning/geoservice\n\nhttps://sdgis-sandag.opendata.arcgis.com/datasets/planned-landuse-1/geoservice\n\nhttps://sdgis-sandag.opendata.arcgis.com/datasets/existing-landuse-1/geoservice\n\n#AUX\n\n## list of useful sites\nhttps://www.attomdata.com/news/attom-insights/best-apis-real-estate/\n\nzillow has a rest api",
      "metadata": {}
    },
    {
      "cell_type": "code",
      "source": "try:\n    import wget\nexcept ImportError:\n    !pip install wget\n\n\nfrom pathlib import Path\nimport pathlib\n    \n#import pkg_resources\n#pkg_resources.get_distribution(\"pathlib\").version\n#!pip install --upgrade pathlib\n    \n",
      "metadata": {
        "trusted": true
      },
      "execution_count": 3,
      "outputs": []
    },
    {
      "cell_type": "code",
      "source": "# list of apns\nlistApns=[\"4715512200\"]\n[\"4530121308\",\n\"4432501600\",\n\"5383402000\",\n\"6204502200\",\n\"5693021100\",\n\"5581701700\",\n\"5514901800\",\n\"4743710400\",\n\"2632924628\",\n\"2801301700\",\n\"6590202500\",\n\"6130804000\",\n\"5230514600\",\n\"3074300564\",\n\"3155821000\",\n\"1413301100\",\n\"2920421700\",\n\"5034001800\",\n\"5845821400\",\n\"5090200800\",\n\"2221721524\",\n\"4324911900\",\n\"4362520800\",\n\"4372503053\",\n\"1480510900\",\n\"3881510700\",\n\"1578802400\",\n\"1624620100\",\n\"4712710807\",\n\"4714611500\",\n\"4715720700\",\n\"1281211200\",\n\"3131300300\",\n\"5317020200\",\n\"2747700501\",\n\"3814240600\",\n\"3783716600\",\n\"6332731600\",\n\"6304405900\",\n\"5513801002\",\n\"6433614307\",\n\"5952024900\",\n\"6430522614\",\n]",
      "metadata": {
        "trusted": true
      },
      "execution_count": 4,
      "outputs": [
        {
          "execution_count": 4,
          "output_type": "execute_result",
          "data": {
            "text/plain": "['4530121308',\n '4432501600',\n '5383402000',\n '6204502200',\n '5693021100',\n '5581701700',\n '5514901800',\n '4743710400',\n '2632924628',\n '2801301700',\n '6590202500',\n '6130804000',\n '5230514600',\n '3074300564',\n '3155821000',\n '1413301100',\n '2920421700',\n '5034001800',\n '5845821400',\n '5090200800',\n '2221721524',\n '4324911900',\n '4362520800',\n '4372503053',\n '1480510900',\n '3881510700',\n '1578802400',\n '1624620100',\n '4712710807',\n '4714611500',\n '4715720700',\n '1281211200',\n '3131300300',\n '5317020200',\n '2747700501',\n '3814240600',\n '3783716600',\n '6332731600',\n '6304405900',\n '5513801002',\n '6433614307',\n '5952024900',\n '6430522614']"
          },
          "metadata": {}
        }
      ]
    },
    {
      "cell_type": "code",
      "source": "#conda install -c anaconda wget\ntempHtml = \"https://gissd.sandag.org/rdw/rest/services/Address/Address/MapServer/0/query?where=UPPER(APN)%20like%20%27%25{APN}%25%27&outFields=*&outSR=4326&f=json\"",
      "metadata": {
        "trusted": true
      },
      "execution_count": 5,
      "outputs": []
    },
    {
      "cell_type": "code",
      "source": "apn = listApns[0]\nofile = \"%s.json\"%apn\nurl = tempHtml.format(APN=apn)\nprint(url)\n\np = Path(ofile)\nif(p.exists()): p.unlink()\nwget.download(url=url,out=ofile)",
      "metadata": {
        "trusted": true
      },
      "execution_count": 9,
      "outputs": [
        {
          "text": "https://gissd.sandag.org/rdw/rest/services/Address/Address/MapServer/0/query?where=UPPER(APN)%20like%20%27%254715512200%25%27&outFields=*&outSR=4326&f=json\n",
          "name": "stdout",
          "output_type": "stream"
        },
        {
          "execution_count": 9,
          "output_type": "execute_result",
          "data": {
            "text/plain": "'4715512200.json'"
          },
          "metadata": {}
        }
      ]
    },
    {
      "cell_type": "code",
      "source": "ls",
      "metadata": {
        "trusted": true
      },
      "execution_count": 11,
      "outputs": [
        {
          "text": "4530121308.json  gissd_scraper.ipynb  query              README.md\n4715512200.json  LICENSE              query8z57kqvp.tmp  zillow_scraper.ipynb\n",
          "name": "stdout",
          "output_type": "stream"
        }
      ]
    }
  ]
}